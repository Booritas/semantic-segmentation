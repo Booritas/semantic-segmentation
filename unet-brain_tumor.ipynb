{
 "cells": [
  {
   "cell_type": "code",
   "execution_count": 24,
   "metadata": {},
   "outputs": [],
   "source": [
    "import warnings\n",
    "warnings.filterwarnings('ignore')"
   ]
  },
  {
   "cell_type": "code",
   "execution_count": 29,
   "metadata": {},
   "outputs": [],
   "source": [
    "import sys\n",
    "import keras\n",
    "import keras.backend as K\n",
    "sys.path.append(\"data\")\n",
    "from data.brainds import BrainTumorDataset\n",
    "from models.unet import *\n",
    "from callbacks import ImageHistory"
   ]
  },
  {
   "cell_type": "code",
   "execution_count": 8,
   "metadata": {},
   "outputs": [],
   "source": [
    "import tensorflow.python.util.deprecation as deprecation\n",
    "deprecation._PRINT_DEPRECATION_WARNINGS = False\n",
    "import keras"
   ]
  },
  {
   "cell_type": "code",
   "execution_count": 9,
   "metadata": {},
   "outputs": [],
   "source": [
    "data_directory = './data/datasets/brain_tumor'\n",
    "weight_file = './weights.hdf5'\n",
    "tensor_board_root_directory = './logs'"
   ]
  },
  {
   "cell_type": "code",
   "execution_count": 19,
   "metadata": {},
   "outputs": [],
   "source": [
    "dataset = BrainTumorDataset(data_directory)"
   ]
  },
  {
   "cell_type": "code",
   "execution_count": 4,
   "metadata": {},
   "outputs": [],
   "source": [
    "dataset.download()"
   ]
  },
  {
   "cell_type": "code",
   "execution_count": 5,
   "metadata": {},
   "outputs": [],
   "source": [
    "dataset.prepare()"
   ]
  },
  {
   "cell_type": "code",
   "execution_count": 11,
   "metadata": {},
   "outputs": [],
   "source": [
    "learning_rate = 1e-4\n",
    "input_shape=(512,512,1)\n",
    "loss = 'binary_crossentropy'\n",
    "steps_per_epoch = 1000\n",
    "epochs = 3\n",
    "batch_size = 5\n",
    "start_epoch = 0\n",
    "last_step = 10\n",
    "clear_all = False"
   ]
  },
  {
   "cell_type": "markdown",
   "metadata": {},
   "source": [
    "## Setup optimizer"
   ]
  },
  {
   "cell_type": "code",
   "execution_count": 14,
   "metadata": {},
   "outputs": [],
   "source": [
    "optimizer = keras.optimizers.Adam(lr = learning_rate)"
   ]
  },
  {
   "cell_type": "code",
   "execution_count": 17,
   "metadata": {},
   "outputs": [
    {
     "name": "stdout",
     "output_type": "stream",
     "text": [
      "WARNING:tensorflow:From /home/ec2-user/anaconda3/envs/dl/lib/python3.7/site-packages/keras/backend/tensorflow_backend.py:4070: The name tf.nn.max_pool is deprecated. Please use tf.nn.max_pool2d instead.\n",
      "\n",
      "Model: \"model_1\"\n",
      "__________________________________________________________________________________________________\n",
      "Layer (type)                    Output Shape         Param #     Connected to                     \n",
      "==================================================================================================\n",
      "input (InputLayer)              (None, 512, 512, 1)  0                                            \n",
      "__________________________________________________________________________________________________\n",
      "CNT_1_conv_1 (Conv2D)           (None, 512, 512, 64) 640         input[0][0]                      \n",
      "__________________________________________________________________________________________________\n",
      "CNT_1_conv_2 (Conv2D)           (None, 512, 512, 64) 36928       CNT_1_conv_1[0][0]               \n",
      "__________________________________________________________________________________________________\n",
      "CNT_2_maxpool (MaxPooling2D)    (None, 256, 256, 64) 0           CNT_1_conv_2[0][0]               \n",
      "__________________________________________________________________________________________________\n",
      "CNT_2_conv_1 (Conv2D)           (None, 256, 256, 128 73856       CNT_2_maxpool[0][0]              \n",
      "__________________________________________________________________________________________________\n",
      "CNT_2_conv_2 (Conv2D)           (None, 256, 256, 128 147584      CNT_2_conv_1[0][0]               \n",
      "__________________________________________________________________________________________________\n",
      "CNT_3_maxpool (MaxPooling2D)    (None, 128, 128, 128 0           CNT_2_conv_2[0][0]               \n",
      "__________________________________________________________________________________________________\n",
      "CNT_3_conv_1 (Conv2D)           (None, 128, 128, 256 295168      CNT_3_maxpool[0][0]              \n",
      "__________________________________________________________________________________________________\n",
      "CNT_3_conv_2 (Conv2D)           (None, 128, 128, 256 590080      CNT_3_conv_1[0][0]               \n",
      "__________________________________________________________________________________________________\n",
      "CNT_4_maxpool (MaxPooling2D)    (None, 64, 64, 256)  0           CNT_3_conv_2[0][0]               \n",
      "__________________________________________________________________________________________________\n",
      "CNT_4_conv_1 (Conv2D)           (None, 64, 64, 512)  1180160     CNT_4_maxpool[0][0]              \n",
      "__________________________________________________________________________________________________\n",
      "CNT_4_conv_2 (Conv2D)           (None, 64, 64, 512)  2359808     CNT_4_conv_1[0][0]               \n",
      "__________________________________________________________________________________________________\n",
      "CNT_5_maxpool (MaxPooling2D)    (None, 32, 32, 512)  0           CNT_4_conv_2[0][0]               \n",
      "__________________________________________________________________________________________________\n",
      "CNT_5_conv_1 (Conv2D)           (None, 32, 32, 1024) 4719616     CNT_5_maxpool[0][0]              \n",
      "__________________________________________________________________________________________________\n",
      "CNT_5_conv_2 (Conv2D)           (None, 32, 32, 1024) 9438208     CNT_5_conv_1[0][0]               \n",
      "__________________________________________________________________________________________________\n",
      "EXP_1_upscaling (UpSampling2D)  (None, 64, 64, 1024) 0           CNT_5_conv_2[0][0]               \n",
      "__________________________________________________________________________________________________\n",
      "EXP_1_conv_0 (Conv2D)           (None, 64, 64, 512)  2097664     EXP_1_upscaling[0][0]            \n",
      "__________________________________________________________________________________________________\n",
      "EXP_1_concat1 (Concatenate)     (None, 64, 64, 1024) 0           CNT_4_conv_2[0][0]               \n",
      "                                                                 EXP_1_conv_0[0][0]               \n",
      "__________________________________________________________________________________________________\n",
      "EXP_1_conv_1 (Conv2D)           (None, 64, 64, 512)  4719104     EXP_1_concat1[0][0]              \n",
      "__________________________________________________________________________________________________\n",
      "EXP_1_conv_2 (Conv2D)           (None, 64, 64, 512)  2359808     EXP_1_conv_1[0][0]               \n",
      "__________________________________________________________________________________________________\n",
      "EXP_2_upscaling (UpSampling2D)  (None, 128, 128, 512 0           EXP_1_conv_2[0][0]               \n",
      "__________________________________________________________________________________________________\n",
      "EXP_2_conv_0 (Conv2D)           (None, 128, 128, 256 524544      EXP_2_upscaling[0][0]            \n",
      "__________________________________________________________________________________________________\n",
      "EXP_2_concat1 (Concatenate)     (None, 128, 128, 512 0           CNT_3_conv_2[0][0]               \n",
      "                                                                 EXP_2_conv_0[0][0]               \n",
      "__________________________________________________________________________________________________\n",
      "EXP_2_conv_1 (Conv2D)           (None, 128, 128, 256 1179904     EXP_2_concat1[0][0]              \n",
      "__________________________________________________________________________________________________\n",
      "EXP_2_conv_2 (Conv2D)           (None, 128, 128, 256 590080      EXP_2_conv_1[0][0]               \n",
      "__________________________________________________________________________________________________\n",
      "EXP_3_upscaling (UpSampling2D)  (None, 256, 256, 256 0           EXP_2_conv_2[0][0]               \n",
      "__________________________________________________________________________________________________\n",
      "EXP_3_conv_0 (Conv2D)           (None, 256, 256, 128 131200      EXP_3_upscaling[0][0]            \n",
      "__________________________________________________________________________________________________\n",
      "EXP_3_concat1 (Concatenate)     (None, 256, 256, 256 0           CNT_2_conv_2[0][0]               \n",
      "                                                                 EXP_3_conv_0[0][0]               \n",
      "__________________________________________________________________________________________________\n",
      "EXP_3_conv_1 (Conv2D)           (None, 256, 256, 128 295040      EXP_3_concat1[0][0]              \n",
      "__________________________________________________________________________________________________\n",
      "EXP_3_conv_2 (Conv2D)           (None, 256, 256, 128 147584      EXP_3_conv_1[0][0]               \n",
      "__________________________________________________________________________________________________\n",
      "EXP_4_upscaling (UpSampling2D)  (None, 512, 512, 128 0           EXP_3_conv_2[0][0]               \n",
      "__________________________________________________________________________________________________\n",
      "EXP_4_conv_0 (Conv2D)           (None, 512, 512, 64) 32832       EXP_4_upscaling[0][0]            \n",
      "__________________________________________________________________________________________________\n",
      "EXP_4_concat1 (Concatenate)     (None, 512, 512, 128 0           CNT_1_conv_2[0][0]               \n",
      "                                                                 EXP_4_conv_0[0][0]               \n",
      "__________________________________________________________________________________________________\n",
      "EXP_4_conv_1 (Conv2D)           (None, 512, 512, 64) 73792       EXP_4_concat1[0][0]              \n",
      "__________________________________________________________________________________________________\n",
      "EXP_4_conv_2 (Conv2D)           (None, 512, 512, 64) 36928       EXP_4_conv_1[0][0]               \n",
      "__________________________________________________________________________________________________\n",
      "OUT_3 (Conv2D)                  (None, 512, 512, 2)  1154        EXP_4_conv_2[0][0]               \n",
      "__________________________________________________________________________________________________\n",
      "OUT (Conv2D)                    (None, 512, 512, 1)  3           OUT_3[0][0]                      \n",
      "==================================================================================================\n",
      "Total params: 31,031,685\n",
      "Trainable params: 31,031,685\n",
      "Non-trainable params: 0\n",
      "__________________________________________________________________________________________________\n"
     ]
    }
   ],
   "source": [
    "builder = Unet(input_shape=input_shape)\n",
    "model = builder.build_model()\n",
    "model.summary()"
   ]
  },
  {
   "cell_type": "markdown",
   "metadata": {},
   "source": [
    "## Dataset generators"
   ]
  },
  {
   "cell_type": "code",
   "execution_count": 20,
   "metadata": {},
   "outputs": [],
   "source": [
    "train_generator = dataset.generator('training', batch_size=batch_size)\n",
    "valid_generator = dataset.generator('validation', batch_size=1)"
   ]
  },
  {
   "cell_type": "markdown",
   "metadata": {},
   "source": [
    "## Callbacks"
   ]
  },
  {
   "cell_type": "code",
   "execution_count": 22,
   "metadata": {},
   "outputs": [],
   "source": [
    "tensor_board_directory = f'{tensor_board_root_directory}/{loss}-{learning_rate}'"
   ]
  },
  {
   "cell_type": "code",
   "execution_count": 26,
   "metadata": {},
   "outputs": [],
   "source": [
    "# tensor board\n",
    "tensorboard = keras.callbacks.TensorBoard(log_dir=tensor_board_directory, histogram_freq=0, write_graph=True, write_images=True, update_freq=100)\n",
    "# image prediction history to be shown in the Tensor board\n",
    "v_generator = dataset.generator('validation', batch_size=1)\n",
    "v_data = [next(v_generator) for item in range(3)]\n",
    "image_history = ImageHistory(tensor_board_dir=tensor_board_directory, data=v_data, last_step=last_step, draw_interval=100)\n",
    "# model saving at end of an epoch\n",
    "model_checkpoint = keras.callbacks.ModelCheckpoint(weight_file, monitor='loss',verbose=1, save_best_only=True)"
   ]
  },
  {
   "cell_type": "code",
   "execution_count": 27,
   "metadata": {},
   "outputs": [],
   "source": [
    "def pixel_difference(y_true, y_pred):\n",
    "    '''\n",
    "    Custom metrics for comparison of images\n",
    "    pixel by pixel. \n",
    "    '''\n",
    "    cof = 100/(input_shape[0]*input_shape[1]*batch_size)\n",
    "    return cof*K.sum(K.abs(y_true - y_pred))\n",
    "\n",
    "metrics = ['accuracy', pixel_difference]"
   ]
  },
  {
   "cell_type": "code",
   "execution_count": 30,
   "metadata": {},
   "outputs": [],
   "source": [
    "model.compile(optimizer=optimizer, loss = loss, metrics = metrics)"
   ]
  },
  {
   "cell_type": "markdown",
   "metadata": {},
   "source": [
    "## Train Model"
   ]
  },
  {
   "cell_type": "code",
   "execution_count": null,
   "metadata": {},
   "outputs": [
    {
     "name": "stdout",
     "output_type": "stream",
     "text": [
      "WARNING:tensorflow:From /home/ec2-user/anaconda3/envs/dl/lib/python3.7/site-packages/keras/backend/tensorflow_backend.py:422: The name tf.global_variables is deprecated. Please use tf.compat.v1.global_variables instead.\n",
      "\n",
      "WARNING:tensorflow:From /home/ec2-user/anaconda3/envs/dl/lib/python3.7/site-packages/keras/callbacks/tensorboard_v1.py:200: The name tf.summary.merge_all is deprecated. Please use tf.compat.v1.summary.merge_all instead.\n",
      "\n",
      "WARNING:tensorflow:From /home/ec2-user/anaconda3/envs/dl/lib/python3.7/site-packages/keras/callbacks/tensorboard_v1.py:203: The name tf.summary.FileWriter is deprecated. Please use tf.compat.v1.summary.FileWriter instead.\n",
      "\n",
      "Epoch 1/3\n",
      "   4/1000 [..............................] - ETA: 15:08:51 - loss: 0.6933 - accuracy: 0.7281 - pixel_difference: 50.0082"
     ]
    }
   ],
   "source": [
    "model.fit_generator(generator=train_generator, steps_per_epoch=steps_per_epoch, epochs=epochs, initial_epoch=start_epoch,\n",
    "                    validation_data=v_generator, validation_steps=1,\n",
    "                    callbacks=[model_checkpoint, tensorboard, image_history])"
   ]
  },
  {
   "cell_type": "code",
   "execution_count": null,
   "metadata": {},
   "outputs": [],
   "source": []
  }
 ],
 "metadata": {
  "kernelspec": {
   "display_name": "Python 3",
   "language": "python",
   "name": "python3"
  },
  "language_info": {
   "codemirror_mode": {
    "name": "ipython",
    "version": 3
   },
   "file_extension": ".py",
   "mimetype": "text/x-python",
   "name": "python",
   "nbconvert_exporter": "python",
   "pygments_lexer": "ipython3",
   "version": "3.7.4"
  }
 },
 "nbformat": 4,
 "nbformat_minor": 4
}
