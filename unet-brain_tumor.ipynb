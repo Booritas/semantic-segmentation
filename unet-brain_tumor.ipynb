{
 "cells": [
  {
   "cell_type": "code",
   "execution_count": 1,
   "metadata": {},
   "outputs": [],
   "source": [
    "import warnings\n",
    "warnings.filterwarnings('ignore')"
   ]
  },
  {
   "cell_type": "code",
   "execution_count": 2,
   "metadata": {},
   "outputs": [
    {
     "name": "stderr",
     "output_type": "stream",
     "text": [
      "Using TensorFlow backend.\n"
     ]
    }
   ],
   "source": [
    "import sys\n",
    "import keras\n",
    "import keras.backend as K\n",
    "sys.path.append(\"data\")\n",
    "from data.brainds import BrainTumorDataset\n",
    "from models.unet import *\n",
    "from callbacks import ImageHistory"
   ]
  },
  {
   "cell_type": "code",
   "execution_count": 3,
   "metadata": {},
   "outputs": [],
   "source": [
    "import tensorflow.python.util.deprecation as deprecation\n",
    "deprecation._PRINT_DEPRECATION_WARNINGS = False\n",
    "import keras"
   ]
  },
  {
   "cell_type": "code",
   "execution_count": 4,
   "metadata": {},
   "outputs": [],
   "source": [
    "data_directory = './data/datasets/brain_tumor'\n",
    "weight_file = './weights.hdf5'\n",
    "tensor_board_root_directory = './brain_tumor_logs'"
   ]
  },
  {
   "cell_type": "code",
   "execution_count": 5,
   "metadata": {},
   "outputs": [],
   "source": [
    "dataset = BrainTumorDataset(data_directory)"
   ]
  },
  {
   "cell_type": "code",
   "execution_count": 6,
   "metadata": {},
   "outputs": [],
   "source": [
    "#dataset.download()"
   ]
  },
  {
   "cell_type": "code",
   "execution_count": 7,
   "metadata": {},
   "outputs": [],
   "source": [
    "#dataset.prepare()"
   ]
  },
  {
   "cell_type": "code",
   "execution_count": 8,
   "metadata": {},
   "outputs": [],
   "source": [
    "training_dataset_size = dataset.get_dataset_size('training')\n",
    "validation_dataset_size = dataset.get_dataset_size('validation')\n",
    "test_dataset_size = dataset.get_dataset_size('test')\n",
    "learning_rate = 1e-4\n",
    "input_shape=(512,512,1)\n",
    "loss = 'binary_crossentropy'\n",
    "batch_size = 7\n",
    "steps_per_epoch = training_dataset_size//batch_size\n",
    "epochs = 100\n",
    "start_epoch = 0\n",
    "last_step = 10\n",
    "clear_all = False"
   ]
  },
  {
   "cell_type": "markdown",
   "metadata": {},
   "source": [
    "## Setup optimizer"
   ]
  },
  {
   "cell_type": "code",
   "execution_count": 9,
   "metadata": {},
   "outputs": [],
   "source": [
    "optimizer = keras.optimizers.Adam(lr = learning_rate)"
   ]
  },
  {
   "cell_type": "code",
   "execution_count": 10,
   "metadata": {},
   "outputs": [
    {
     "name": "stdout",
     "output_type": "stream",
     "text": [
      "WARNING:tensorflow:From /home/ec2-user/anaconda3/envs/dl/lib/python3.7/site-packages/keras/backend/tensorflow_backend.py:4070: The name tf.nn.max_pool is deprecated. Please use tf.nn.max_pool2d instead.\n",
      "\n",
      "Model: \"model_1\"\n",
      "__________________________________________________________________________________________________\n",
      "Layer (type)                    Output Shape         Param #     Connected to                     \n",
      "==================================================================================================\n",
      "input (InputLayer)              (None, 512, 512, 1)  0                                            \n",
      "__________________________________________________________________________________________________\n",
      "CNT_1_conv_1 (Conv2D)           (None, 512, 512, 64) 640         input[0][0]                      \n",
      "__________________________________________________________________________________________________\n",
      "CNT_1_conv_2 (Conv2D)           (None, 512, 512, 64) 36928       CNT_1_conv_1[0][0]               \n",
      "__________________________________________________________________________________________________\n",
      "CNT_2_maxpool (MaxPooling2D)    (None, 256, 256, 64) 0           CNT_1_conv_2[0][0]               \n",
      "__________________________________________________________________________________________________\n",
      "CNT_2_conv_1 (Conv2D)           (None, 256, 256, 128 73856       CNT_2_maxpool[0][0]              \n",
      "__________________________________________________________________________________________________\n",
      "CNT_2_conv_2 (Conv2D)           (None, 256, 256, 128 147584      CNT_2_conv_1[0][0]               \n",
      "__________________________________________________________________________________________________\n",
      "CNT_3_maxpool (MaxPooling2D)    (None, 128, 128, 128 0           CNT_2_conv_2[0][0]               \n",
      "__________________________________________________________________________________________________\n",
      "CNT_3_conv_1 (Conv2D)           (None, 128, 128, 256 295168      CNT_3_maxpool[0][0]              \n",
      "__________________________________________________________________________________________________\n",
      "CNT_3_conv_2 (Conv2D)           (None, 128, 128, 256 590080      CNT_3_conv_1[0][0]               \n",
      "__________________________________________________________________________________________________\n",
      "CNT_4_maxpool (MaxPooling2D)    (None, 64, 64, 256)  0           CNT_3_conv_2[0][0]               \n",
      "__________________________________________________________________________________________________\n",
      "CNT_4_conv_1 (Conv2D)           (None, 64, 64, 512)  1180160     CNT_4_maxpool[0][0]              \n",
      "__________________________________________________________________________________________________\n",
      "CNT_4_conv_2 (Conv2D)           (None, 64, 64, 512)  2359808     CNT_4_conv_1[0][0]               \n",
      "__________________________________________________________________________________________________\n",
      "CNT_5_maxpool (MaxPooling2D)    (None, 32, 32, 512)  0           CNT_4_conv_2[0][0]               \n",
      "__________________________________________________________________________________________________\n",
      "CNT_5_conv_1 (Conv2D)           (None, 32, 32, 1024) 4719616     CNT_5_maxpool[0][0]              \n",
      "__________________________________________________________________________________________________\n",
      "CNT_5_conv_2 (Conv2D)           (None, 32, 32, 1024) 9438208     CNT_5_conv_1[0][0]               \n",
      "__________________________________________________________________________________________________\n",
      "EXP_1_upscaling (UpSampling2D)  (None, 64, 64, 1024) 0           CNT_5_conv_2[0][0]               \n",
      "__________________________________________________________________________________________________\n",
      "EXP_1_conv_0 (Conv2D)           (None, 64, 64, 512)  2097664     EXP_1_upscaling[0][0]            \n",
      "__________________________________________________________________________________________________\n",
      "EXP_1_concat1 (Concatenate)     (None, 64, 64, 1024) 0           CNT_4_conv_2[0][0]               \n",
      "                                                                 EXP_1_conv_0[0][0]               \n",
      "__________________________________________________________________________________________________\n",
      "EXP_1_conv_1 (Conv2D)           (None, 64, 64, 512)  4719104     EXP_1_concat1[0][0]              \n",
      "__________________________________________________________________________________________________\n",
      "EXP_1_conv_2 (Conv2D)           (None, 64, 64, 512)  2359808     EXP_1_conv_1[0][0]               \n",
      "__________________________________________________________________________________________________\n",
      "EXP_2_upscaling (UpSampling2D)  (None, 128, 128, 512 0           EXP_1_conv_2[0][0]               \n",
      "__________________________________________________________________________________________________\n",
      "EXP_2_conv_0 (Conv2D)           (None, 128, 128, 256 524544      EXP_2_upscaling[0][0]            \n",
      "__________________________________________________________________________________________________\n",
      "EXP_2_concat1 (Concatenate)     (None, 128, 128, 512 0           CNT_3_conv_2[0][0]               \n",
      "                                                                 EXP_2_conv_0[0][0]               \n",
      "__________________________________________________________________________________________________\n",
      "EXP_2_conv_1 (Conv2D)           (None, 128, 128, 256 1179904     EXP_2_concat1[0][0]              \n",
      "__________________________________________________________________________________________________\n",
      "EXP_2_conv_2 (Conv2D)           (None, 128, 128, 256 590080      EXP_2_conv_1[0][0]               \n",
      "__________________________________________________________________________________________________\n",
      "EXP_3_upscaling (UpSampling2D)  (None, 256, 256, 256 0           EXP_2_conv_2[0][0]               \n",
      "__________________________________________________________________________________________________\n",
      "EXP_3_conv_0 (Conv2D)           (None, 256, 256, 128 131200      EXP_3_upscaling[0][0]            \n",
      "__________________________________________________________________________________________________\n",
      "EXP_3_concat1 (Concatenate)     (None, 256, 256, 256 0           CNT_2_conv_2[0][0]               \n",
      "                                                                 EXP_3_conv_0[0][0]               \n",
      "__________________________________________________________________________________________________\n",
      "EXP_3_conv_1 (Conv2D)           (None, 256, 256, 128 295040      EXP_3_concat1[0][0]              \n",
      "__________________________________________________________________________________________________\n",
      "EXP_3_conv_2 (Conv2D)           (None, 256, 256, 128 147584      EXP_3_conv_1[0][0]               \n",
      "__________________________________________________________________________________________________\n",
      "EXP_4_upscaling (UpSampling2D)  (None, 512, 512, 128 0           EXP_3_conv_2[0][0]               \n",
      "__________________________________________________________________________________________________\n",
      "EXP_4_conv_0 (Conv2D)           (None, 512, 512, 64) 32832       EXP_4_upscaling[0][0]            \n",
      "__________________________________________________________________________________________________\n",
      "EXP_4_concat1 (Concatenate)     (None, 512, 512, 128 0           CNT_1_conv_2[0][0]               \n",
      "                                                                 EXP_4_conv_0[0][0]               \n",
      "__________________________________________________________________________________________________\n",
      "EXP_4_conv_1 (Conv2D)           (None, 512, 512, 64) 73792       EXP_4_concat1[0][0]              \n",
      "__________________________________________________________________________________________________\n",
      "EXP_4_conv_2 (Conv2D)           (None, 512, 512, 64) 36928       EXP_4_conv_1[0][0]               \n",
      "__________________________________________________________________________________________________\n",
      "OUT_3 (Conv2D)                  (None, 512, 512, 2)  1154        EXP_4_conv_2[0][0]               \n",
      "__________________________________________________________________________________________________\n",
      "OUT (Conv2D)                    (None, 512, 512, 1)  3           OUT_3[0][0]                      \n",
      "==================================================================================================\n",
      "Total params: 31,031,685\n",
      "Trainable params: 31,031,685\n",
      "Non-trainable params: 0\n",
      "__________________________________________________________________________________________________\n"
     ]
    }
   ],
   "source": [
    "builder = Unet(input_shape=input_shape)\n",
    "model = builder.build_model()\n",
    "model.summary()"
   ]
  },
  {
   "cell_type": "markdown",
   "metadata": {},
   "source": [
    "## Dataset generators"
   ]
  },
  {
   "cell_type": "code",
   "execution_count": 11,
   "metadata": {},
   "outputs": [],
   "source": [
    "train_generator = dataset.generator('training', batch_size=batch_size)\n",
    "valid_generator = dataset.generator('validation', batch_size=1)"
   ]
  },
  {
   "cell_type": "markdown",
   "metadata": {},
   "source": [
    "## Callbacks"
   ]
  },
  {
   "cell_type": "code",
   "execution_count": 12,
   "metadata": {},
   "outputs": [],
   "source": [
    "tensor_board_directory = f'{tensor_board_root_directory}/{loss}-{learning_rate}'"
   ]
  },
  {
   "cell_type": "code",
   "execution_count": 13,
   "metadata": {},
   "outputs": [],
   "source": [
    "# tensor board\n",
    "tensorboard = keras.callbacks.TensorBoard(log_dir=tensor_board_directory, histogram_freq=0, write_graph=True, write_images=True, update_freq=100)\n",
    "# image prediction history to be shown in the Tensor board\n",
    "v_generator = dataset.generator('validation', batch_size=1)\n",
    "v_data = [next(v_generator) for item in range(3)]\n",
    "image_history = ImageHistory(tensor_board_dir=tensor_board_directory, data=v_data, last_step=last_step, draw_interval=100)\n",
    "# model saving at end of an epoch\n",
    "model_checkpoint = keras.callbacks.ModelCheckpoint(weight_file, monitor='loss',verbose=1, save_best_only=True)"
   ]
  },
  {
   "cell_type": "code",
   "execution_count": 14,
   "metadata": {},
   "outputs": [],
   "source": [
    "def pixel_difference(y_true, y_pred):\n",
    "    '''\n",
    "    Custom metrics for comparison of images\n",
    "    pixel by pixel. \n",
    "    '''\n",
    "    cof = 100/(input_shape[0]*input_shape[1]*batch_size)\n",
    "    return cof*K.sum(K.abs(y_true - y_pred))\n",
    "\n",
    "metrics = ['accuracy', pixel_difference]"
   ]
  },
  {
   "cell_type": "code",
   "execution_count": 15,
   "metadata": {},
   "outputs": [],
   "source": [
    "model.compile(optimizer=optimizer, loss = loss, metrics = metrics)"
   ]
  },
  {
   "cell_type": "markdown",
   "metadata": {},
   "source": [
    "## Train Model"
   ]
  },
  {
   "cell_type": "code",
   "execution_count": null,
   "metadata": {},
   "outputs": [
    {
     "name": "stdout",
     "output_type": "stream",
     "text": [
      "WARNING:tensorflow:From /home/ec2-user/anaconda3/envs/dl/lib/python3.7/site-packages/keras/backend/tensorflow_backend.py:422: The name tf.global_variables is deprecated. Please use tf.compat.v1.global_variables instead.\n",
      "\n",
      "WARNING:tensorflow:From /home/ec2-user/anaconda3/envs/dl/lib/python3.7/site-packages/keras/callbacks/tensorboard_v1.py:200: The name tf.summary.merge_all is deprecated. Please use tf.compat.v1.summary.merge_all instead.\n",
      "\n",
      "WARNING:tensorflow:From /home/ec2-user/anaconda3/envs/dl/lib/python3.7/site-packages/keras/callbacks/tensorboard_v1.py:203: The name tf.summary.FileWriter is deprecated. Please use tf.compat.v1.summary.FileWriter instead.\n",
      "\n",
      "Epoch 1/100\n",
      " 15/349 [>.............................] - ETA: 20:53 - loss: 0.5628 - accuracy: 0.9817 - pixel_difference: 37.5629WARNING:tensorflow:From /home/ec2-user/anaconda3/envs/dl/lib/python3.7/site-packages/keras/callbacks/tensorboard_v1.py:343: The name tf.Summary is deprecated. Please use tf.compat.v1.Summary instead.\n",
      "\n",
      "349/349 [==============================] - 777s 2s/step - loss: 0.0935 - accuracy: 0.9830 - pixel_difference: 4.9953 - val_loss: 0.1163 - val_accuracy: 0.9838 - val_pixel_difference: 0.3833\n",
      "\n",
      "Epoch 00001: loss improved from inf to 0.09350, saving model to ./weights.hdf5\n",
      "Epoch 2/100\n",
      "349/349 [==============================] - 751s 2s/step - loss: 0.0627 - accuracy: 0.9830 - pixel_difference: 3.1255 - val_loss: 0.0955 - val_accuracy: 0.9838 - val_pixel_difference: 0.2642\n",
      "\n",
      "Epoch 00002: loss improved from 0.09350 to 0.06269, saving model to ./weights.hdf5\n",
      "Epoch 3/100\n",
      "349/349 [==============================] - 750s 2s/step - loss: 0.0579 - accuracy: 0.9830 - pixel_difference: 2.9724 - val_loss: 0.1168 - val_accuracy: 0.9838 - val_pixel_difference: 0.2487\n",
      "\n",
      "Epoch 00003: loss improved from 0.06269 to 0.05794, saving model to ./weights.hdf5\n",
      "Epoch 4/100\n",
      "349/349 [==============================] - 750s 2s/step - loss: 0.0525 - accuracy: 0.9830 - pixel_difference: 2.7496 - val_loss: 0.0943 - val_accuracy: 0.9838 - val_pixel_difference: 0.2510\n",
      "\n",
      "Epoch 00004: loss improved from 0.05794 to 0.05250, saving model to ./weights.hdf5\n",
      "Epoch 5/100\n",
      "349/349 [==============================] - 750s 2s/step - loss: 0.0475 - accuracy: 0.9830 - pixel_difference: 2.5358 - val_loss: 0.0969 - val_accuracy: 0.9838 - val_pixel_difference: 0.2456\n",
      "\n",
      "Epoch 00005: loss improved from 0.05250 to 0.04747, saving model to ./weights.hdf5\n",
      "Epoch 6/100\n",
      "349/349 [==============================] - 750s 2s/step - loss: 0.0425 - accuracy: 0.9836 - pixel_difference: 2.3118 - val_loss: 0.1211 - val_accuracy: 0.9867 - val_pixel_difference: 0.2248\n",
      "\n",
      "Epoch 00006: loss improved from 0.04747 to 0.04246, saving model to ./weights.hdf5\n",
      "Epoch 7/100\n",
      "349/349 [==============================] - 749s 2s/step - loss: 0.0375 - accuracy: 0.9878 - pixel_difference: 2.0893 - val_loss: 0.1583 - val_accuracy: 0.9870 - val_pixel_difference: 0.2187\n",
      "\n",
      "Epoch 00007: loss improved from 0.04246 to 0.03748, saving model to ./weights.hdf5\n",
      "Epoch 8/100\n",
      "349/349 [==============================] - 749s 2s/step - loss: 0.0342 - accuracy: 0.9888 - pixel_difference: 1.9388 - val_loss: 0.1711 - val_accuracy: 0.9873 - val_pixel_difference: 0.2103\n",
      "\n",
      "Epoch 00008: loss improved from 0.03748 to 0.03421, saving model to ./weights.hdf5\n",
      "Epoch 9/100\n",
      "349/349 [==============================] - 748s 2s/step - loss: 0.0317 - accuracy: 0.9899 - pixel_difference: 1.8261 - val_loss: 0.1332 - val_accuracy: 0.9879 - val_pixel_difference: 0.2073\n",
      "\n",
      "Epoch 00009: loss improved from 0.03421 to 0.03175, saving model to ./weights.hdf5\n",
      "Epoch 10/100\n",
      "349/349 [==============================] - 745s 2s/step - loss: 0.0293 - accuracy: 0.9906 - pixel_difference: 1.7224 - val_loss: 0.1273 - val_accuracy: 0.9879 - val_pixel_difference: 0.2039\n",
      "\n",
      "Epoch 00010: loss improved from 0.03175 to 0.02928, saving model to ./weights.hdf5\n",
      "Epoch 11/100\n",
      "349/349 [==============================] - 746s 2s/step - loss: 0.0275 - accuracy: 0.9913 - pixel_difference: 1.6380 - val_loss: 0.0984 - val_accuracy: 0.9884 - val_pixel_difference: 0.2010\n",
      "\n",
      "Epoch 00011: loss improved from 0.02928 to 0.02747, saving model to ./weights.hdf5\n",
      "Epoch 12/100\n",
      "236/349 [===================>..........] - ETA: 3:52 - loss: 0.0315 - accuracy: 0.9899 - pixel_difference: 1.9077"
     ]
    }
   ],
   "source": [
    "model.fit_generator(generator=train_generator, steps_per_epoch=steps_per_epoch, epochs=epochs, initial_epoch=start_epoch,\n",
    "                    validation_data=v_generator, validation_steps=validation_dataset_size,\n",
    "                    callbacks=[model_checkpoint, tensorboard, image_history])"
   ]
  }
 ],
 "metadata": {
  "kernelspec": {
   "display_name": "Python 3",
   "language": "python",
   "name": "python3"
  },
  "language_info": {
   "codemirror_mode": {
    "name": "ipython",
    "version": 3
   },
   "file_extension": ".py",
   "mimetype": "text/x-python",
   "name": "python",
   "nbconvert_exporter": "python",
   "pygments_lexer": "ipython3",
   "version": "3.7.4"
  }
 },
 "nbformat": 4,
 "nbformat_minor": 4
}
