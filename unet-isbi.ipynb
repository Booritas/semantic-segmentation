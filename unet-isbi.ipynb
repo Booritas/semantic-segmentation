{
 "cells": [
  {
   "cell_type": "code",
   "execution_count": 1,
   "metadata": {},
   "outputs": [],
   "source": [
    "import warnings\n",
    "warnings.filterwarnings('ignore')"
   ]
  },
  {
   "cell_type": "code",
   "execution_count": 2,
   "metadata": {},
   "outputs": [
    {
     "name": "stderr",
     "output_type": "stream",
     "text": [
      "Using TensorFlow backend.\n"
     ]
    }
   ],
   "source": [
    "%matplotlib inline \n",
    "import keras\n",
    "import sys\n",
    "import os\n",
    "from glob import glob\n",
    "import keras.backend as K\n",
    "import numpy as np\n",
    "import matplotlib.pyplot as plt\n",
    "sys.path.append(\"data\")\n",
    "from models.unet import *\n",
    "from data.isbi import ISBI_2012\n",
    "from data.dataset import Dataset\n",
    "from callbacks import ImageHistory"
   ]
  },
  {
   "cell_type": "code",
   "execution_count": 3,
   "metadata": {},
   "outputs": [],
   "source": [
    "import tensorflow.python.util.deprecation as deprecation\n",
    "deprecation._PRINT_DEPRECATION_WARNINGS = False"
   ]
  },
  {
   "cell_type": "markdown",
   "metadata": {},
   "source": [
    "## Directories"
   ]
  },
  {
   "cell_type": "code",
   "execution_count": 4,
   "metadata": {},
   "outputs": [],
   "source": [
    "isbi_dataset_location = './data/datasets/isbi-2012'\n",
    "tensor_board_directory = './logs'\n",
    "weight_file = './weights.hdf5'"
   ]
  },
  {
   "cell_type": "markdown",
   "metadata": {},
   "source": [
    "## Parameters"
   ]
  },
  {
   "cell_type": "code",
   "execution_count": 5,
   "metadata": {},
   "outputs": [],
   "source": [
    "learning_rate = 1e-4\n",
    "input_shape=(512,512,1)\n",
    "loss = 'binary_crossentropy'\n",
    "steps_per_epoch = 1000\n",
    "epochs = 3\n",
    "batch_size = 5\n",
    "start_epoch = 1\n",
    "last_step = 10\n",
    "clear_all = False"
   ]
  },
  {
   "cell_type": "markdown",
   "metadata": {},
   "source": [
    "## Clear data from previous executions if needed"
   ]
  },
  {
   "cell_type": "code",
   "execution_count": 6,
   "metadata": {},
   "outputs": [],
   "source": [
    "if clear_all:\n",
    "    if os.path.exists(weight_file):\n",
    "        os.remove(weight_file)\n",
    "    files = glob(tensor_board_directory +'/*')\n",
    "    for f in files:\n",
    "        os.remove(f)"
   ]
  },
  {
   "cell_type": "markdown",
   "metadata": {},
   "source": [
    "## Setup dataset"
   ]
  },
  {
   "cell_type": "code",
   "execution_count": 7,
   "metadata": {},
   "outputs": [],
   "source": [
    "dataset = ISBI_2012(dataset_path=isbi_dataset_location)"
   ]
  },
  {
   "cell_type": "markdown",
   "metadata": {},
   "source": [
    "## Setup optimizer"
   ]
  },
  {
   "cell_type": "code",
   "execution_count": 8,
   "metadata": {},
   "outputs": [],
   "source": [
    "optimizer = keras.optimizers.Adam(lr = learning_rate)"
   ]
  },
  {
   "cell_type": "markdown",
   "metadata": {},
   "source": [
    "## Build model"
   ]
  },
  {
   "cell_type": "code",
   "execution_count": 9,
   "metadata": {},
   "outputs": [
    {
     "name": "stdout",
     "output_type": "stream",
     "text": [
      "WARNING:tensorflow:From /home/ec2-user/anaconda3/envs/dl/lib/python3.7/site-packages/keras/backend/tensorflow_backend.py:4070: The name tf.nn.max_pool is deprecated. Please use tf.nn.max_pool2d instead.\n",
      "\n",
      "Model: \"model_1\"\n",
      "__________________________________________________________________________________________________\n",
      "Layer (type)                    Output Shape         Param #     Connected to                     \n",
      "==================================================================================================\n",
      "input (InputLayer)              (None, 512, 512, 1)  0                                            \n",
      "__________________________________________________________________________________________________\n",
      "CNT_1_conv_1 (Conv2D)           (None, 512, 512, 64) 640         input[0][0]                      \n",
      "__________________________________________________________________________________________________\n",
      "CNT_1_conv_2 (Conv2D)           (None, 512, 512, 64) 36928       CNT_1_conv_1[0][0]               \n",
      "__________________________________________________________________________________________________\n",
      "CNT_2_maxpool (MaxPooling2D)    (None, 256, 256, 64) 0           CNT_1_conv_2[0][0]               \n",
      "__________________________________________________________________________________________________\n",
      "CNT_2_conv_1 (Conv2D)           (None, 256, 256, 128 73856       CNT_2_maxpool[0][0]              \n",
      "__________________________________________________________________________________________________\n",
      "CNT_2_conv_2 (Conv2D)           (None, 256, 256, 128 147584      CNT_2_conv_1[0][0]               \n",
      "__________________________________________________________________________________________________\n",
      "CNT_3_maxpool (MaxPooling2D)    (None, 128, 128, 128 0           CNT_2_conv_2[0][0]               \n",
      "__________________________________________________________________________________________________\n",
      "CNT_3_conv_1 (Conv2D)           (None, 128, 128, 256 295168      CNT_3_maxpool[0][0]              \n",
      "__________________________________________________________________________________________________\n",
      "CNT_3_conv_2 (Conv2D)           (None, 128, 128, 256 590080      CNT_3_conv_1[0][0]               \n",
      "__________________________________________________________________________________________________\n",
      "CNT_4_maxpool (MaxPooling2D)    (None, 64, 64, 256)  0           CNT_3_conv_2[0][0]               \n",
      "__________________________________________________________________________________________________\n",
      "CNT_4_conv_1 (Conv2D)           (None, 64, 64, 512)  1180160     CNT_4_maxpool[0][0]              \n",
      "__________________________________________________________________________________________________\n",
      "CNT_4_conv_2 (Conv2D)           (None, 64, 64, 512)  2359808     CNT_4_conv_1[0][0]               \n",
      "__________________________________________________________________________________________________\n",
      "CNT_5_maxpool (MaxPooling2D)    (None, 32, 32, 512)  0           CNT_4_conv_2[0][0]               \n",
      "__________________________________________________________________________________________________\n",
      "CNT_5_conv_1 (Conv2D)           (None, 32, 32, 1024) 4719616     CNT_5_maxpool[0][0]              \n",
      "__________________________________________________________________________________________________\n",
      "CNT_5_conv_2 (Conv2D)           (None, 32, 32, 1024) 9438208     CNT_5_conv_1[0][0]               \n",
      "__________________________________________________________________________________________________\n",
      "EXP_1_upscaling (UpSampling2D)  (None, 64, 64, 1024) 0           CNT_5_conv_2[0][0]               \n",
      "__________________________________________________________________________________________________\n",
      "EXP_1_conv_0 (Conv2D)           (None, 64, 64, 512)  2097664     EXP_1_upscaling[0][0]            \n",
      "__________________________________________________________________________________________________\n",
      "EXP_1_concat1 (Concatenate)     (None, 64, 64, 1024) 0           CNT_4_conv_2[0][0]               \n",
      "                                                                 EXP_1_conv_0[0][0]               \n",
      "__________________________________________________________________________________________________\n",
      "EXP_1_conv_1 (Conv2D)           (None, 64, 64, 512)  4719104     EXP_1_concat1[0][0]              \n",
      "__________________________________________________________________________________________________\n",
      "EXP_1_conv_2 (Conv2D)           (None, 64, 64, 512)  2359808     EXP_1_conv_1[0][0]               \n",
      "__________________________________________________________________________________________________\n",
      "EXP_2_upscaling (UpSampling2D)  (None, 128, 128, 512 0           EXP_1_conv_2[0][0]               \n",
      "__________________________________________________________________________________________________\n",
      "EXP_2_conv_0 (Conv2D)           (None, 128, 128, 256 524544      EXP_2_upscaling[0][0]            \n",
      "__________________________________________________________________________________________________\n",
      "EXP_2_concat1 (Concatenate)     (None, 128, 128, 512 0           CNT_3_conv_2[0][0]               \n",
      "                                                                 EXP_2_conv_0[0][0]               \n",
      "__________________________________________________________________________________________________\n",
      "EXP_2_conv_1 (Conv2D)           (None, 128, 128, 256 1179904     EXP_2_concat1[0][0]              \n",
      "__________________________________________________________________________________________________\n",
      "EXP_2_conv_2 (Conv2D)           (None, 128, 128, 256 590080      EXP_2_conv_1[0][0]               \n",
      "__________________________________________________________________________________________________\n",
      "EXP_3_upscaling (UpSampling2D)  (None, 256, 256, 256 0           EXP_2_conv_2[0][0]               \n",
      "__________________________________________________________________________________________________\n",
      "EXP_3_conv_0 (Conv2D)           (None, 256, 256, 128 131200      EXP_3_upscaling[0][0]            \n",
      "__________________________________________________________________________________________________\n",
      "EXP_3_concat1 (Concatenate)     (None, 256, 256, 256 0           CNT_2_conv_2[0][0]               \n",
      "                                                                 EXP_3_conv_0[0][0]               \n",
      "__________________________________________________________________________________________________\n",
      "EXP_3_conv_1 (Conv2D)           (None, 256, 256, 128 295040      EXP_3_concat1[0][0]              \n",
      "__________________________________________________________________________________________________\n",
      "EXP_3_conv_2 (Conv2D)           (None, 256, 256, 128 147584      EXP_3_conv_1[0][0]               \n",
      "__________________________________________________________________________________________________\n",
      "EXP_4_upscaling (UpSampling2D)  (None, 512, 512, 128 0           EXP_3_conv_2[0][0]               \n",
      "__________________________________________________________________________________________________\n",
      "EXP_4_conv_0 (Conv2D)           (None, 512, 512, 64) 32832       EXP_4_upscaling[0][0]            \n",
      "__________________________________________________________________________________________________\n",
      "EXP_4_concat1 (Concatenate)     (None, 512, 512, 128 0           CNT_1_conv_2[0][0]               \n",
      "                                                                 EXP_4_conv_0[0][0]               \n",
      "__________________________________________________________________________________________________\n",
      "EXP_4_conv_1 (Conv2D)           (None, 512, 512, 64) 73792       EXP_4_concat1[0][0]              \n",
      "__________________________________________________________________________________________________\n",
      "EXP_4_conv_2 (Conv2D)           (None, 512, 512, 64) 36928       EXP_4_conv_1[0][0]               \n",
      "__________________________________________________________________________________________________\n",
      "OUT_3 (Conv2D)                  (None, 512, 512, 2)  1154        EXP_4_conv_2[0][0]               \n",
      "__________________________________________________________________________________________________\n",
      "OUT (Conv2D)                    (None, 512, 512, 1)  3           OUT_3[0][0]                      \n",
      "==================================================================================================\n",
      "Total params: 31,031,685\n",
      "Trainable params: 31,031,685\n",
      "Non-trainable params: 0\n",
      "__________________________________________________________________________________________________\n"
     ]
    }
   ],
   "source": [
    "builder = Unet(input_shape=input_shape)\n",
    "model = builder.build_model()\n",
    "model.summary()"
   ]
  },
  {
   "cell_type": "markdown",
   "metadata": {},
   "source": [
    "## Dataset generators"
   ]
  },
  {
   "cell_type": "code",
   "execution_count": 10,
   "metadata": {},
   "outputs": [],
   "source": [
    "train_generator = dataset.generator('training', batch_size=batch_size)\n",
    "valid_generator = dataset.generator('validation', batch_size=1)"
   ]
  },
  {
   "cell_type": "markdown",
   "metadata": {},
   "source": [
    "## Metrics"
   ]
  },
  {
   "cell_type": "code",
   "execution_count": 11,
   "metadata": {},
   "outputs": [],
   "source": [
    "def pixel_difference(y_true, y_pred):\n",
    "    '''\n",
    "    Custom metrics for comparison of images\n",
    "    pixel by pixel. \n",
    "    '''\n",
    "    cof = 100/(input_shape[0]*input_shape[1]*batch_size)\n",
    "    return cof*K.sum(K.abs(y_true - y_pred))\n",
    "\n",
    "metrics = ['accuracy', pixel_difference]"
   ]
  },
  {
   "cell_type": "markdown",
   "metadata": {},
   "source": [
    "## Compile model"
   ]
  },
  {
   "cell_type": "code",
   "execution_count": 12,
   "metadata": {},
   "outputs": [],
   "source": [
    "model.compile(optimizer=optimizer, loss = loss, metrics = metrics)"
   ]
  },
  {
   "cell_type": "markdown",
   "metadata": {},
   "source": [
    "## Callbacks"
   ]
  },
  {
   "cell_type": "code",
   "execution_count": 13,
   "metadata": {},
   "outputs": [],
   "source": [
    "# tensor board\n",
    "tensorboard = keras.callbacks.TensorBoard(log_dir=tensor_board_directory, histogram_freq=0, write_graph=True, write_images=True, update_freq=100)\n",
    "# image prediction history to be shown in the Tensor board\n",
    "v_generator = dataset.generator('validation', batch_size=1)\n",
    "v_data = [next(v_generator) for item in range(3)]\n",
    "image_history = ImageHistory(tensor_board_dir=tensor_board_directory, data=v_data, last_step=last_step, draw_interval=100)\n",
    "# model saving at end of an epoch\n",
    "model_checkpoint = keras.callbacks.ModelCheckpoint(weight_file, monitor='loss',verbose=1, save_best_only=True)"
   ]
  },
  {
   "cell_type": "markdown",
   "metadata": {},
   "source": [
    "## Load weights from previous steps"
   ]
  },
  {
   "cell_type": "code",
   "execution_count": 14,
   "metadata": {},
   "outputs": [
    {
     "name": "stdout",
     "output_type": "stream",
     "text": [
      "load weights\n"
     ]
    }
   ],
   "source": [
    "if os.path.isfile(weight_file):\n",
    "    print('load weights')\n",
    "    model.load_weights(weight_file)"
   ]
  },
  {
   "cell_type": "markdown",
   "metadata": {},
   "source": [
    "## Train Model"
   ]
  },
  {
   "cell_type": "code",
   "execution_count": null,
   "metadata": {},
   "outputs": [
    {
     "name": "stdout",
     "output_type": "stream",
     "text": [
      "WARNING:tensorflow:From /home/ec2-user/anaconda3/envs/dl/lib/python3.7/site-packages/keras/backend/tensorflow_backend.py:422: The name tf.global_variables is deprecated. Please use tf.compat.v1.global_variables instead.\n",
      "\n",
      "WARNING:tensorflow:From /home/ec2-user/anaconda3/envs/dl/lib/python3.7/site-packages/keras/callbacks/tensorboard_v1.py:200: The name tf.summary.merge_all is deprecated. Please use tf.compat.v1.summary.merge_all instead.\n",
      "\n",
      "WARNING:tensorflow:From /home/ec2-user/anaconda3/envs/dl/lib/python3.7/site-packages/keras/callbacks/tensorboard_v1.py:203: The name tf.summary.FileWriter is deprecated. Please use tf.compat.v1.summary.FileWriter instead.\n",
      "\n",
      "Epoch 2/3\n",
      "   1/1000 [..............................] - ETA: 6:13:03 - loss: 0.0826 - accuracy: 0.9163 - pixel_difference: 3.8162WARNING:tensorflow:From /home/ec2-user/projects/semantic-segmentation/callbacks.py:70: The name tf.Summary is deprecated. Please use tf.compat.v1.Summary instead.\n",
      "\n",
      "1000/1000 [==============================] - 1527s 2s/step - loss: 0.0811 - accuracy: 0.9144 - pixel_difference: 3.5437 - val_loss: 0.2973 - val_accuracy: 0.9296 - val_pixel_difference: 1.5435\n",
      "\n",
      "Epoch 00002: loss improved from inf to 0.08115, saving model to ./weights.hdf5\n",
      "Epoch 3/3\n",
      " 653/1000 [==================>...........] - ETA: 8:39 - loss: 0.0682 - accuracy: 0.9182 - pixel_difference: 2.7472"
     ]
    }
   ],
   "source": [
    "model.fit_generator(generator=train_generator, steps_per_epoch=steps_per_epoch, epochs=epochs, initial_epoch=start_epoch,\n",
    "                    validation_data=valid_generator, validation_steps=1,\n",
    "                    callbacks=[model_checkpoint, tensorboard, image_history])"
   ]
  },
  {
   "cell_type": "markdown",
   "metadata": {},
   "source": [
    "## Explore results"
   ]
  },
  {
   "cell_type": "code",
   "execution_count": null,
   "metadata": {},
   "outputs": [],
   "source": [
    "def generate_segmentation_masks(model, input_images):\n",
    "    '''\n",
    "    function generates segmentation masks for list of\n",
    "    input images. Returns a list of segmentation masks\n",
    "    represented as a numpy array\n",
    "    '''\n",
    "    masks = []\n",
    "    for image in input_images:\n",
    "        mask = model.predict(image)\n",
    "        masks.append(mask)\n",
    "    return masks"
   ]
  },
  {
   "cell_type": "markdown",
   "metadata": {},
   "source": [
    "### Generate segmentation masks"
   ]
  },
  {
   "cell_type": "code",
   "execution_count": null,
   "metadata": {},
   "outputs": [],
   "source": [
    "builder = Unet(input_shape=input_shape)\n",
    "model = builder.build_model()\n",
    "model.load_weights(weight_file)\n",
    "\n",
    "number_of_test_images = 3\n",
    "t_generator = dataset.generator('test', batch_size=1)\n",
    "t_data = [next(t_generator) for item in range(number_of_test_images)]\n",
    "images = [item[0] for item in t_data]\n",
    "labels = [item[1] for item in t_data]\n",
    "masks = generate_segmentation_masks(model, images)"
   ]
  },
  {
   "cell_type": "markdown",
   "metadata": {},
   "source": [
    "### Compute pixelwise differences between masks and labels"
   ]
  },
  {
   "cell_type": "code",
   "execution_count": null,
   "metadata": {},
   "outputs": [],
   "source": [
    "for ind in range(number_of_test_images):\n",
    "    pixel_dif = np.sum(np.abs(masks[ind] - labels[ind]))/(masks[ind].shape[1]*masks[ind].shape[2]/100)\n",
    "    print('image %d: %.2f %%' % (ind+1, pixel_dif))"
   ]
  },
  {
   "cell_type": "markdown",
   "metadata": {},
   "source": [
    "### Visuslization of the segmentation masks"
   ]
  },
  {
   "cell_type": "code",
   "execution_count": null,
   "metadata": {},
   "outputs": [],
   "source": [
    "n_images = len(images)\n",
    "cols = n_images\n",
    "rows = 3\n",
    "plt.figure(figsize=(15, 15))\n",
    "for i in range(n_images*rows):\n",
    "    if i<n_images:\n",
    "        img = images[i][0,:,:,0]\n",
    "    elif i<n_images*2:\n",
    "        img = labels[i-n_images][0,:,:,0]\n",
    "    else:\n",
    "        img = masks[i-n_images*2][0,:,:,0]\n",
    "    ax = plt.subplot(rows, cols, i+1)\n",
    "    plt.imshow(img,cmap='gray')\n",
    "    plt.xticks([])\n",
    "    plt.yticks([])\n",
    "plt.tight_layout()\n",
    "plt.show()"
   ]
  },
  {
   "cell_type": "code",
   "execution_count": null,
   "metadata": {},
   "outputs": [],
   "source": []
  }
 ],
 "metadata": {
  "kernelspec": {
   "display_name": "Python 3",
   "language": "python",
   "name": "python3"
  },
  "language_info": {
   "codemirror_mode": {
    "name": "ipython",
    "version": 3
   },
   "file_extension": ".py",
   "mimetype": "text/x-python",
   "name": "python",
   "nbconvert_exporter": "python",
   "pygments_lexer": "ipython3",
   "version": "3.7.4"
  }
 },
 "nbformat": 4,
 "nbformat_minor": 4
}
